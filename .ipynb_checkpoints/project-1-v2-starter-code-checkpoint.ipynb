{
 "cells": [
  {
   "cell_type": "markdown",
   "metadata": {},
   "source": [
    "<img src=\"http://imgur.com/1ZcRyrc.png\" style=\"float: left; margin: 15px; height: 80px\">\n",
    "\n",
    "# Project 1\n",
    "\n",
    "### Building \"Pokemon Stay\"\n",
    "\n",
    "---\n",
    "You are an analyst at a \"scrappy\" online gaming company that specializes in remakes of last year's fads.\n",
    "\n",
    "Your boss, who runs the product development team, is convinced that Pokemon Go's fatal flaw was that you had to actually move around outside. She has design mock-ups for a new game called Pokemon Stay: in this version players still need to move, but just from website to website. Pokemon gyms are now popular online destinations, and catching Pokemon in the \"wild\" simply requires browsing the internet for hours in the comfort of your home.\n",
    "\n",
    "She wants you to program a prototype version of the game, and analyze the planned content to help the team calibrate the design."
   ]
  },
  {
   "cell_type": "markdown",
   "metadata": {},
   "source": [
    "#### Package imports\n",
    "\n",
    "The pprint package below is the only package imported here, and it's not even strictly required to do any of the project. Printing python variables and objects with pprint can help to format them in a \"prettier\" way."
   ]
  },
  {
   "cell_type": "code",
   "execution_count": 1,
   "metadata": {},
   "outputs": [],
   "source": [
    "from pprint import pprint "
   ]
  },
  {
   "cell_type": "markdown",
   "metadata": {},
   "source": [
    "<img src=\"http://imgur.com/l5NasQj.png\" style=\"float: left; margin: 25px 15px 0px 0px; height: 25px\">\n",
    "\n",
    "## 1. Defining a player\n",
    "\n",
    "---\n",
    "\n",
    "The player variables are:\n",
    "\n",
    "    player_id : id code unique to each player (integer)\n",
    "    player_name : entered name of the player (string)\n",
    "    time_played : number of time played the game in minutes (float)\n",
    "    player_pokemon: the player's captured pokemon (dictionary)\n",
    "    gyms_visited: ids of the gyms that a player has visited (list)\n",
    "    \n",
    "Create the components for a player object by defining each of these variables. The dictionary and list variables should just be defined as empty; you can use any (correctly typed) values for the others."
   ]
  },
  {
   "cell_type": "code",
   "execution_count": 2,
   "metadata": {},
   "outputs": [],
   "source": [
    "#define each player variable\n",
    "player_id = 1\n",
    "player_name = \"Ash Ketchum\"\n",
    "time_played = 0 \n",
    "player_pokemon = {} #dictionary\n",
    "gyms_visited = [] #list"
   ]
  },
  {
   "cell_type": "markdown",
   "metadata": {},
   "source": [
    "<img src=\"http://imgur.com/l5NasQj.png\" style=\"float: left; margin: 25px 15px 0px 0px; height: 25px\">\n",
    "\n",
    "## 2. Defining \"gym\" locations\n",
    "\n",
    "---\n",
    "\n",
    "As the sole programmer, Pokemon Stay will have to start small. To begin, there will be 10 different gym location websites on the internet. The gym locations are:\n",
    "\n",
    "    1. 'reddit.com'\n",
    "    2. 'amazon.com'\n",
    "    3. 'twitter.com'\n",
    "    4. 'linkedin.com'\n",
    "    5. 'ebay.com'\n",
    "    6. 'netflix.com'\n",
    "    7. 'sporcle.com'\n",
    "    8. 'stackoverflow.com'\n",
    "    9. 'github.com'\n",
    "    10. 'quora.com'\n",
    "\n",
    "1. Set up a list of all the gym locations. This will be a list of strings.\n",
    "2. Append two of these locations to your player's list of visited gyms.\n",
    "3. Print the list."
   ]
  },
  {
   "cell_type": "code",
   "execution_count": 3,
   "metadata": {},
   "outputs": [],
   "source": [
    "#create list of string with all gym loccations\n",
    "gym_locations = ['reddit.com','amazon.com','twitter.com','linkedin.com','ebay.com','netflix.com','sporcle.com','stackoverflow.com','github.com','quora.com']\n",
    "\n",
    "#add first two locations to player's list of visited gyms\n",
    "gyms_visited.append(gym_locations[0])\n",
    "gyms_visited.append(gym_locations[1])\n",
    "\n",
    "print(gyms_visited)"
   ]
  },
  {
   "cell_type": "markdown",
   "metadata": {},
   "source": [
    "<img src=\"http://imgur.com/l5NasQj.png\" style=\"float: left; margin: 25px 15px 0px 0px; height: 25px\">\n",
    "\n",
    "## 3. Create a pokedex\n",
    "\n",
    "---\n",
    "\n",
    "We also need to create some pokemon to catch. Each pokemon will be defined by these variables:\n",
    "\n",
    "    pokemon_id : unique identifier for each pokemon (integer)\n",
    "    name : the name of the pokemon (string)\n",
    "    type : the category of pokemon (string)\n",
    "    hp : base hitpoints (integer)\n",
    "    attack : base attack (integer)\n",
    "    defense : base defense (integer)\n",
    "    special_attack : base special attack (integer)\n",
    "    special_defense : base sepecial defense (integer)\n",
    "    speed : base speed (integer)\n",
    "\n",
    "We are only going to create 3 different pokemon with these `pokemon_id` and `pokemon_name` values:\n",
    "\n",
    "    1 : 'charmander'\n",
    "    2 : 'squirtle'\n",
    "    3 : 'bulbasaur'\n",
    "\n",
    "Create a dictionary that will contain the pokemon. The keys of the dictionary will be the `pokemon_id` and the values will themselves dictionaries that contain the other pokemon variables. The structure of the pokedex dictionary will start like so:\n",
    "     \n",
    "     {\n",
    "         1: {\n",
    "                 'name':'charmander',\n",
    "                 'type':'fire',\n",
    "                 ...\n",
    "                 \n",
    "The `type` of charmander, squirtle, and bulbasaur should be `'fire'`, `'water'`, and `'poison'` respectively. The other values are up to you, make them anything you like!\n",
    "\n",
    "Print (or pretty print) the pokedex dictionary with the 3 pokemon."
   ]
  },
  {
   "cell_type": "code",
   "execution_count": 4,
   "metadata": {},
   "outputs": [],
   "source": [
    "pokedex = {}\n",
    "\n",
    "#create the three pokemon dictionaries\n",
    "pokedex[1] = {'name':'charmander','type':'fire', 'hp':100, 'attack':10, 'defense':10, 'special_attack':7, 'special_defense':7, 'speed':8}\n",
    "pokedex[2] = {'name':'squirtle','type':'water', 'hp':100, 'attack':9, 'defense':10, 'special_attack':7, 'special_defense':7, 'speed':8}\n",
    "pokedex[3] = {'name':'bulbasaur','type':'poison', 'hp':100, 'attack':8, 'defense':11, 'special_attack':7, 'special_defense':7, 'speed':8}\n",
    "\n",
    "print(pokedex)"
   ]
  },
  {
   "cell_type": "markdown",
   "metadata": {},
   "source": [
    "# <img src=\"http://imgur.com/l5NasQj.png\" style=\"float: left; margin: 25px 15px 0px 0px; height: 25px\">\n",
    "\n",
    "## 4. Create a data structure for players\n",
    "\n",
    "---\n",
    "\n",
    "### 4.1 \n",
    "\n",
    "In order to maintain a database of multiple players, create a dictionary that keeps track of players indexed by `player_id`. \n",
    "\n",
    "The keys of the dictionary will be `player_id` and values will be dictionaries containing each player's variables (from question 1). \n",
    "\n",
    "Construct the `players` dictionary and insert the player that you defined in question 1, then print `players`."
   ]
  },
  {
   "cell_type": "code",
   "execution_count": 5,
   "metadata": {},
   "outputs": [],
   "source": [
    "players = {}\n",
    "\n",
    "#create player dictionary with player variables\n",
    "players[player_id]={'player_name':player_name, 'time_played':time_played, 'player_pokemon':player_pokemon,'gyms_visited':gyms_visited}\n",
    "\n",
    "print(players)"
   ]
  },
  {
   "cell_type": "markdown",
   "metadata": {},
   "source": [
    "---\n",
    "\n",
    "### 4.2\n",
    "\n",
    "Create a new player with `player_id = 2` in the `players` dictionary. Leave the `'player_pokemon'` dictionary empty. Append `'alcatraz'` and `'pacific_beach'` to the `'gyms_visited'` list for player 2.\n",
    "\n",
    "The `'player_name'` and `'time_played'` values are up to you, but must be a string and float, respectively.\n",
    "\n",
    "Remember, the player_id is the key for the player in the players dictionary.\n",
    "\n",
    "Print the `players` dictionary with the new player inserted."
   ]
  },
  {
   "cell_type": "code",
   "execution_count": 6,
   "metadata": {},
   "outputs": [],
   "source": [
    "gyms_visited_p2 = []\n",
    "\n",
    "#append gym locations to gyms list for player 2\n",
    "gyms_visited_p2.append('alcatraz')\n",
    "gyms_visited_p2.append('pacific beach')\n",
    "\n",
    "players[2] = {'player_name':'Gary', 'time_played':6.0, 'player_pokemon':{},'gyms_visited':gyms_visited_p2}\n",
    "\n",
    "print(players)\n",
    "\n",
    "\n"
   ]
  },
  {
   "cell_type": "markdown",
   "metadata": {},
   "source": [
    "<img src=\"http://imgur.com/l5NasQj.png\" style=\"float: left; margin: 25px 15px 0px 0px; height: 25px\">\n",
    "\n",
    "## 5. Add captured pokemon for each player\n",
    "\n",
    "---\n",
    "\n",
    "The `'player_pokemon'` keyed dictionaries for each player keep track of which of the pokemon each player has.\n",
    "\n",
    "The keys of the `'player_pokemon'` dictionaries are the pokemon ids that correspond to the ids in the `pokedex` dictionary you created earlier. The values are integers specifying the stats for the pokemon.\n",
    "\n",
    "Give player 1 a squirtle. Give player 2 charmander and a bulbasaur.\n",
    "\n",
    "Print the players dictionary after adding the pokemon for each player.\n"
   ]
  },
  {
   "cell_type": "code",
   "execution_count": 7,
   "metadata": {},
   "outputs": [],
   "source": [
    "\n",
    "#give player 1 a squirtle\n",
    "players[1]['player_pokemon'].update({'2':pokedex[2]})\n",
    "\n",
    "#give player 2 a charmander and a bulbasaur\n",
    "players[2]['player_pokemon'].update({'1':pokedex[1],'3':pokedex[3]})\n",
    "\n",
    "#print the players dictionary\n",
    "print(players)\n"
   ]
  },
  {
   "cell_type": "markdown",
   "metadata": {},
   "source": [
    "\n",
    "\n",
    "## 6. What gyms have players visited?\n",
    "\n",
    "---\n",
    "<img src=\"http://imgur.com/l5NasQj.png\" style=\"float: left; margin: 25px 15px 0px 0px; height: 25px\">\n",
    "### 6.1\n",
    "\n",
    "Write a for-loop that:\n",
    "\n",
    "1. Iterates through the `pokemon_gyms` list of gym locations you defined before.\n",
    "2. For each gym, iterate through each player in the `players` dictionary with a second, internal for-loop.\n",
    "3. If the player has visited the gym, print out \"[player] has visited [gym location].\", filling in [player] and [gym location] with the current player's name and current gym location."
   ]
  },
  {
   "cell_type": "code",
   "execution_count": 8,
   "metadata": {},
   "outputs": [
    {
     "name": "stdout",
     "output_type": "stream",
     "text": [
      "Ash Ketchum has visited reddit.com\n",
      "Ash Ketchum has visited amazon.com\n"
     ]
    }
   ],
   "source": [
    "for gyms in gym_locations:\n",
    "    for i,player in enumerate(players):\n",
    "        for player_gym in players[i+1]['gyms_visited']:#for all the gyms that player has visited\n",
    "            if(player_gym==gyms):\n",
    "                playername = players[i+1]['player_name']#retrieve player's name\n",
    "                print(\"{player} has visited {player_gym}\".format(player=playername,player_gym=player_gym))\n",
    "        \n"
   ]
  },
  {
   "cell_type": "markdown",
   "metadata": {},
   "source": [
    "<img src=\"http://imgur.com/xDpSobf.png\" style=\"float: left; margin: 25px 15px 0px 0px; height: 25px\">\n",
    "### 6.2\n",
    "\n",
    "How many times did that loop run? If you have N gyms and also N players, how many times would it run as a function of N?\n",
    "\n",
    "Can you think of a more efficient way to accomplish the same thing? \n",
    "\n",
    "(You can write your answer as Markdown text.)"
   ]
  },
  {
   "cell_type": "markdown",
   "metadata": {},
   "source": [
    "The loop ran 20 times. If we had N gyms and N players, it would run NxN times in total.\n",
    "\n",
    "A more efficient way to accomplish this is to store the list of player visited gyms as a dictionary so we can look it up directly with a key."
   ]
  },
  {
   "cell_type": "markdown",
   "metadata": {},
   "source": [
    "<img src=\"http://imgur.com/l5NasQj.png\" style=\"float: left; margin: 25px 15px 0px 0px; height: 25px\">\n",
    "\n",
    "## 7. Calculate player \"power\".\n",
    "\n",
    "---\n",
    "\n",
    "Define a function that will calculate a player's \"power\". Player power is defined as the sum of the base statistics all of their pokemon.\n",
    "\n",
    "Your function will:\n",
    "\n",
    "1. Accept the `players` dictionary, `pokedex` dictionary, and a player_id as arguments.\n",
    "2. For the specified player_id, look up that player's pokemon and their level(s).\n",
    "3. Find and aggregate the attack and defense values for each of the player's pokemon from the `pokedex` dictionary.\n",
    "4. Print \"[player name]'s power is [player power].\", where the player power is the sum of the base statistics for all of their pokemon.\n",
    "5. Return the player's power value.\n",
    "\n",
    "Print out the pokemon power for each of your players."
   ]
  },
  {
   "cell_type": "code",
   "execution_count": 9,
   "metadata": {},
   "outputs": [
    {
     "name": "stdout",
     "output_type": "stream",
     "text": [
      "Ash Ketchum's power is 19.\n",
      "Gary's power is 39.\n"
     ]
    },
    {
     "data": {
      "text/plain": [
       "39"
      ]
     },
     "execution_count": 9,
     "metadata": {},
     "output_type": "execute_result"
    }
   ],
   "source": [
    "def player_power(players,pokedex,player_id):\n",
    "\n",
    "    #initialise player power\n",
    "    \n",
    "    power = 0\n",
    "    \n",
    "    #find and aggregate the attack and defense values for each of the player's pokemon\n",
    "    for pkey in players[player_id]['player_pokemon'].keys(): # for each pokemon that player has caught\n",
    "        #find and add attack and defense values to add to total power\n",
    "        power = power + players[player_id]['player_pokemon'][pkey]['attack'] + players[player_id]['player_pokemon'][pkey]['defense']#add on to total power\n",
    "        \n",
    "    #retrieve player's name\n",
    "    playername =  players[player_id]['player_name']\n",
    "    \n",
    "    #print\n",
    "    print(\"{player}'s power is {power}.\".format(player=playername,power=power))\n",
    "    \n",
    "    #return the power value\n",
    "    return power\n",
    "    \n",
    "    \n",
    "#print out pokemon power for each player\n",
    "\n",
    "player_power(players,pokedex,1)\n",
    "player_power(players,pokedex,2)"
   ]
  },
  {
   "cell_type": "markdown",
   "metadata": {
    "collapsed": true
   },
   "source": [
    "<img src=\"http://imgur.com/l5NasQj.png\" style=\"float: left; margin: 25px 15px 0px 0px; height: 25px\">\n",
    "\n",
    "## 8. Load a pokedex file containing all the pokemon\n",
    "\n",
    "---\n",
    "\n",
    "### 8.1\n",
    "\n",
    "While you were putting together the prototype code, your colleagues were preparing a dataset of Pokemon and their attributes. (This was a rush job, so they may have picked some crazy values for some...)\n",
    "\n",
    "The code below loads information from a comma separated value (csv) file. You need to parse this string into a more useable format. The format of the string is:\n",
    "\n",
    "- Rows are separated by newline characters: \\n\n",
    "- Columns are separated by commas: ,\n",
    "- All cells in the csv are double quoted. Ex: \"PokedexNumber\" is the first cell of the first row.\n",
    "\n",
    "\n",
    "Using for-loops, create a list of lists where each list within the overall list is a row of the csv/matrix, and each element in that list is a cell in that row. Additional criteria:\n",
    "\n",
    "1. Quotes are removed from each cell item.\n",
    "2. Numeric column values are converted to floats.\n",
    "3. There are some cells that are empty and have no information. For these cells put a -1 value in place.\n",
    "\n",
    "Your end result is effectively a matrix. Each list in the outer list is a row, and the *j*th elements of list together form the *j*th column, which represents a data attribute. The first three lists in your pokedex list should look like this:\n",
    "\n",
    "    ['PokedexNumber', 'Name', 'Type', 'Total', 'HP', 'Attack', 'Defense', 'SpecialAttack', 'SpecialDefense', 'Speed']\n",
    "    [1.0, 'Bulbasaur', 'GrassPoison', 318.0, 45.0, 49.0, 49.0, 65.0, 65.0, 45.0]\n",
    "    [2.0, 'Ivysaur', 'GrassPoison', 405.0, 60.0, 62.0, 63.0, 80.0, 80.0, 60.0]"
   ]
  },
  {
   "cell_type": "code",
   "execution_count": 10,
   "metadata": {},
   "outputs": [],
   "source": [
    "# Code to read in pokedex info\n",
    "raw_pd = ''\n",
    "pokedex_file = 'pokedex_basic.csv'\n",
    "with open(pokedex_file, 'r') as f:\n",
    "    raw_pd = f.read()\n",
    "    \n",
    "# the pokedex string is assigned to the raw_pd variable\n"
   ]
  },
  {
   "cell_type": "code",
   "execution_count": 11,
   "metadata": {},
   "outputs": [],
   "source": [
    "clean1 = raw_pd.splitlines()"
   ]
  },
  {
   "cell_type": "code",
   "execution_count": 12,
   "metadata": {},
   "outputs": [],
   "source": [
    "#remove quotation marks from each item\n",
    "\n",
    "cleaned_lines = []\n",
    "for item in clean1:\n",
    "        cleaned_lines.append(item.replace('\"',''))\n",
    "    \n"
   ]
  },
  {
   "cell_type": "code",
   "execution_count": 13,
   "metadata": {},
   "outputs": [],
   "source": [
    "#split data into list of lists\n",
    "\n",
    "split_data = []\n",
    "\n",
    "for line in cleaned_lines:\n",
    "    split_data.append(line.split(','))\n"
   ]
  },
  {
   "cell_type": "code",
   "execution_count": 14,
   "metadata": {},
   "outputs": [],
   "source": [
    "#if field is empty, convert to -1\n",
    "convert_data = []#new list of lists\n",
    "\n",
    "for row in split_data:\n",
    "    new_row = [] \n",
    "    for col in row: \n",
    "        if col == '':\n",
    "            new_row.append(-1)#if field is empty, convert to -1\n",
    "        else:\n",
    "            if(col.isdigit()):#if entry is a numerical value\n",
    "                new_row.append(float(col)) #convert float values to float type\n",
    "            else:\n",
    "                new_row.append(col) \n",
    "        \n",
    "    convert_data.append(new_row)#append row of data to new list\n",
    "    \n",
    "    "
   ]
  },
  {
   "cell_type": "markdown",
   "metadata": {},
   "source": [
    "<img src=\"http://imgur.com/xDpSobf.png\" style=\"float: left; margin: 25px 15px 0px 0px; height: 25px\">\n",
    "\n",
    "### 8.2 Parse the raw pokedex with list comprehensions\n",
    "\n",
    "---\n",
    "\n",
    "Perform the same parsing as above, but **using only a single list comprehension** instead of for loops. You may have nested list comprehensions within the main list comprehension! The output should be exactly the same."
   ]
  },
  {
   "cell_type": "code",
   "execution_count": 15,
   "metadata": {},
   "outputs": [],
   "source": [
    "convert_data2 = [[float(col) if col.isdigit() else -1 if col=='' else col for col in row] for row in split_data ]\n"
   ]
  },
  {
   "cell_type": "markdown",
   "metadata": {},
   "source": [
    "<img src=\"http://imgur.com/l5NasQj.png\" style=\"float: left; margin: 25px 15px 0px 0px; height: 25px\">\n",
    "\n",
    "## 9. Write a function to generate the full pokedex\n",
    "\n",
    "---\n",
    "\n",
    "Write a function that recreates the pokedex you made before, but with the data read in from the full pokemon file. The `PokedexNumber` should be used as the `pokemon_id` key values for the dictionary of pokemon.\n",
    "\n",
    "Your function should:\n",
    "\n",
    "1. Take the parsed pokedex information you created above as an argument.\n",
    "2. Return a dictionary in the same format as your original pokedex you created before containing the information from the parsed full pokedex file.\n",
    "\n",
    "To test the function, print out the pokemon with id = 100."
   ]
  },
  {
   "cell_type": "code",
   "execution_count": 16,
   "metadata": {
    "scrolled": true
   },
   "outputs": [
    {
     "name": "stdout",
     "output_type": "stream",
     "text": [
      "{'Name': 'Gastly', 'Type': 'GhostPoison', 'Total': 310.0, 'HP': 30.0, 'Attack': 35.0, 'Defense': 30.0, 'SpecialAttack': 100.0, 'SpecialDefense': 35.0, 'Speed': 80.0}\n"
     ]
    }
   ],
   "source": [
    "def create_pokedex(pokedex_data):\n",
    "    \n",
    "    pokedex_dict = {}\n",
    "    \n",
    "    header = pokedex_data[0]#first row contains the headers\n",
    "    \n",
    "    #create new pokemon id row to remove duplicate ids\n",
    "    id = 1\n",
    "    IDrow = []\n",
    "    for row in pokedex_data[1:]:\n",
    "        IDrow.append(id)\n",
    "        id = id +1\n",
    "    \n",
    "    row_num = 0\n",
    "    for row in pokedex_data[1:]:#for each row in parsed pokemon information, not including first row\n",
    "        row2 = row[1:]\n",
    "        header2 = header[1:]    \n",
    "        pokedex_dict[IDrow[row_num]]={header2[i]:row2[i] for i,item in enumerate(row2)}\n",
    "        row_num = row_num +1\n",
    "    \n",
    "    #return dictionary in same format as original pokedex\n",
    "    \n",
    "    return pokedex_dict\n",
    "\n",
    "new_pokedex = create_pokedex(convert_data)\n",
    "\n",
    "#print out the pokemon with id = 100\n",
    "print(new_pokedex[100])\n"
   ]
  },
  {
   "cell_type": "markdown",
   "metadata": {},
   "source": [
    "<img src=\"http://i.imgur.com/GCAf1UX.png\" style=\"float: left; margin: 25px 15px 0px 0px; height: 25px\">\n",
    "\n",
    "## 10. Write a function to generate a \"filtered\" pokedex\n",
    "---\n",
    "Your function should:\n",
    "1. Take the parsed pokedex information you created above as an argument.\n",
    "1. Take a dictionary as a parameter with keys matching the features of the Pokedex, filtering by exact match for string type values, and/or filter continuous variables specified value that is greater than or equal to the dictionary key parameter.\n",
    "1. Return multiple elements from the Pokedex\n",
    "\n",
    "Example:\n",
    "\n",
    "```python\n",
    "\n",
    "# Only filter based on parameters passed\n",
    "filter_options = {\n",
    "    'Attack':   25,\n",
    "    'Defense':  30,\n",
    "    'Type':     'Electric'\n",
    "}\n",
    "\n",
    "# Return records with attack >= 24, defense >= 30, and type == \"Electric\"\n",
    "# Also anticipate that other paramters can also be passed such as \"SpecialAttack\", \"Speed\", etc.\n",
    "filtered_pokedex(pokedex_data, filter=filter_options)\n",
    "\n",
    "# Example output:\n",
    "# [{'Attack': 30.0,\n",
    "#  'Defense': 50.0,\n",
    "#  'HP': 40.0,\n",
    "#  'Name': 'Voltorb',\n",
    "#  'SpecialAttack': 55.0,\n",
    "#  'SpecialDefense': 55.0,\n",
    "#  'Speed': 100.0,\n",
    "#  'Total': 330.0,\n",
    "#  'Type': 'Electric'},\n",
    "#  {'Attack': 30.0,\n",
    "#  'Defense': 33.0,\n",
    "#  'HP': 32.0,\n",
    "#  'Name': 'Pikachu',\n",
    "#  'SpecialAttack': 55.0,\n",
    "#  'SpecialDefense': 55.0,\n",
    "#  'Speed': 100.0,\n",
    "#  'Total': 330.0,\n",
    "#  'Type': 'Electric'},\n",
    "#  ... etc\n",
    "#  ]\n",
    "\n",
    "```\n",
    "\n"
   ]
  },
  {
   "cell_type": "code",
   "execution_count": 17,
   "metadata": {},
   "outputs": [
    {
     "data": {
      "text/plain": [
       "[{'Name': 'Ivysaur',\n",
       "  'Type': 'GrassPoison',\n",
       "  'Total': 405.0,\n",
       "  'HP': 60.0,\n",
       "  'Attack': 62.0,\n",
       "  'Defense': 63.0,\n",
       "  'SpecialAttack': 80.0,\n",
       "  'SpecialDefense': 80.0,\n",
       "  'Speed': 60.0},\n",
       " {'Name': 'Venusaur',\n",
       "  'Type': 'GrassPoison',\n",
       "  'Total': 525.0,\n",
       "  'HP': 80.0,\n",
       "  'Attack': 82.0,\n",
       "  'Defense': 83.0,\n",
       "  'SpecialAttack': 100.0,\n",
       "  'SpecialDefense': 100.0,\n",
       "  'Speed': 80.0},\n",
       " {'Name': 'VenusaurMega Venusaur',\n",
       "  'Type': 'GrassPoison',\n",
       "  'Total': 625.0,\n",
       "  'HP': 80.0,\n",
       "  'Attack': 100.0,\n",
       "  'Defense': 123.0,\n",
       "  'SpecialAttack': 122.0,\n",
       "  'SpecialDefense': 120.0,\n",
       "  'Speed': 80.0},\n",
       " {'Name': 'Gloom',\n",
       "  'Type': 'GrassPoison',\n",
       "  'Total': 395.0,\n",
       "  'HP': 60.0,\n",
       "  'Attack': 65.0,\n",
       "  'Defense': 70.0,\n",
       "  'SpecialAttack': 85.0,\n",
       "  'SpecialDefense': 75.0,\n",
       "  'Speed': 40.0},\n",
       " {'Name': 'Vileplume',\n",
       "  'Type': 'GrassPoison',\n",
       "  'Total': 490.0,\n",
       "  'HP': 75.0,\n",
       "  'Attack': 80.0,\n",
       "  'Defense': 85.0,\n",
       "  'SpecialAttack': 110.0,\n",
       "  'SpecialDefense': 90.0,\n",
       "  'Speed': 50.0},\n",
       " {'Name': 'Bellsprout',\n",
       "  'Type': 'GrassPoison',\n",
       "  'Total': 300.0,\n",
       "  'HP': 50.0,\n",
       "  'Attack': 75.0,\n",
       "  'Defense': 35.0,\n",
       "  'SpecialAttack': 70.0,\n",
       "  'SpecialDefense': 30.0,\n",
       "  'Speed': 40.0},\n",
       " {'Name': 'Weepinbell',\n",
       "  'Type': 'GrassPoison',\n",
       "  'Total': 390.0,\n",
       "  'HP': 65.0,\n",
       "  'Attack': 90.0,\n",
       "  'Defense': 50.0,\n",
       "  'SpecialAttack': 85.0,\n",
       "  'SpecialDefense': 45.0,\n",
       "  'Speed': 55.0},\n",
       " {'Name': 'Victreebel',\n",
       "  'Type': 'GrassPoison',\n",
       "  'Total': 490.0,\n",
       "  'HP': 80.0,\n",
       "  'Attack': 105.0,\n",
       "  'Defense': 65.0,\n",
       "  'SpecialAttack': 100.0,\n",
       "  'SpecialDefense': 70.0,\n",
       "  'Speed': 70.0},\n",
       " {'Name': 'Roselia',\n",
       "  'Type': 'GrassPoison',\n",
       "  'Total': 400.0,\n",
       "  'HP': 50.0,\n",
       "  'Attack': 60.0,\n",
       "  'Defense': 45.0,\n",
       "  'SpecialAttack': 100.0,\n",
       "  'SpecialDefense': 80.0,\n",
       "  'Speed': 65.0},\n",
       " {'Name': 'Roserade',\n",
       "  'Type': 'GrassPoison',\n",
       "  'Total': 515.0,\n",
       "  'HP': 60.0,\n",
       "  'Attack': 70.0,\n",
       "  'Defense': 65.0,\n",
       "  'SpecialAttack': 125.0,\n",
       "  'SpecialDefense': 105.0,\n",
       "  'Speed': 90.0},\n",
       " {'Name': 'Foongus',\n",
       "  'Type': 'GrassPoison',\n",
       "  'Total': 294.0,\n",
       "  'HP': 69.0,\n",
       "  'Attack': 55.0,\n",
       "  'Defense': 45.0,\n",
       "  'SpecialAttack': 55.0,\n",
       "  'SpecialDefense': 55.0,\n",
       "  'Speed': 15.0},\n",
       " {'Name': 'Amoonguss',\n",
       "  'Type': 'GrassPoison',\n",
       "  'Total': 464.0,\n",
       "  'HP': 114.0,\n",
       "  'Attack': 85.0,\n",
       "  'Defense': 70.0,\n",
       "  'SpecialAttack': 85.0,\n",
       "  'SpecialDefense': 80.0,\n",
       "  'Speed': 30.0}]"
      ]
     },
     "execution_count": 17,
     "metadata": {},
     "output_type": "execute_result"
    }
   ],
   "source": [
    "def filtered_pokedex(pokedex_data, filter={}):\n",
    "    \n",
    "    #list to be returned with all the filter pokemon\n",
    "\n",
    "    #make a copy of pokedex so we do not affect the original pokedex\n",
    "    pokedex_copy = pokedex_data.copy()\n",
    "    \n",
    "    filtered_ids = []\n",
    "    \n",
    "    #for each key in the filter\n",
    "    \n",
    "    for key in filter.keys():#for each of the input filter expressions\n",
    "        for i,pokemon in enumerate(pokedex_data):#for each pokemon in the pokedex\n",
    "            if (type(filter[key])==float or type(filter[key])==int) :#if the filter value is a number, we should keep pokemon with number greater than or equalto this numer\n",
    "                if(pokedex_data[i+1][key]<filter[key]):#if value is smaller, this pokemon should be removed\n",
    "                    #note down the id for the pokemon to be removed from the list\n",
    "                    filtered_ids.append(i+1)\n",
    "                \n",
    "            \n",
    "            else:#if filter value is string, we should return pokemon that have exact match\n",
    "                 if(pokedex_data[i+1][key]!=filter[key]):#if not equal to the filter expression, this pokemon should be removed\n",
    "                    #note down the id for the pokemon to be removed from the list\n",
    "                    filtered_ids.append(i+1)\n",
    "    \n",
    "    #with pokemon ids to be removed, remove the keys from the copied dictionary so we do not affect the original pokedex\n",
    "    \n",
    "    for id in filtered_ids:#iterate through list of ids to filter out\n",
    "        if id in pokedex_copy.keys():#if the key exists\n",
    "            pokedex_copy.pop(id)#remove the entry\n",
    "\n",
    "    #create the list of filtered pokemon to be returned\n",
    "    filtered_poke = []\n",
    "    for key in pokedex_copy.keys():#for each pokemon in the parsed data\n",
    "        filtered_poke.append(pokedex_copy[key])#append every pokemon to the list\n",
    "      \n",
    "    #return the list\n",
    "    return filtered_poke\n",
    "    \n",
    "filtered_pokedex(new_pokedex,filter={'Attack':25, 'Type': 'GrassPoison', 'HP':50})\n",
    "\n",
    "\n"
   ]
  },
  {
   "cell_type": "markdown",
   "metadata": {
    "collapsed": true
   },
   "source": [
    "\n",
    "## 9. Descriptive statistics on the prototype pokedex\n",
    "\n",
    "<img src=\"http://imgur.com/l5NasQj.png\" style=\"float: left; margin: 25px 15px 0px 0px; height: 25px\">\n",
    "### 9.1\n",
    "\n",
    "What is the population mean and standard deviation of the \"Total\" attribute for all characters in the Pokedex?\n",
    "\n"
   ]
  },
  {
   "cell_type": "code",
   "execution_count": 18,
   "metadata": {},
   "outputs": [
    {
     "name": "stdout",
     "output_type": "stream",
     "text": [
      "The population mean for Total attribute is 435.1275\n",
      "The population standard deviation for Total attribute is 119.96202000529168\n"
     ]
    }
   ],
   "source": [
    "import numpy as np\n",
    "\n",
    "#get the total attribute from all pokemon in the pokedex\n",
    "pokemon_total = []\n",
    "\n",
    "#for each pokemon in the pokedex\n",
    "for i,pokemon in enumerate(new_pokedex):\n",
    "    pokemon_total.append(new_pokedex[i+1]['Total'])#sum up all in 'Total' attribute\n",
    "\n",
    "#calculate population mean\n",
    "pop_mean = np.mean(pokemon_total)\n",
    "print(\"The population mean for Total attribute is {pop_mean}\".format(pop_mean = pop_mean))\n",
    "\n",
    "#calculate population standard deviation\n",
    "pop_stdev = np.std(pokemon_total)\n",
    "print(\"The population standard deviation for Total attribute is {pop_stdev}\".format(pop_stdev=pop_stdev))"
   ]
  },
  {
   "cell_type": "markdown",
   "metadata": {},
   "source": [
    "# <img src=\"http://imgur.com/l5NasQj.png\" style=\"float: left; margin: 25px 15px 0px 0px; height: 25px\">\n",
    "### 9.2\n",
    "\n",
    "The game is no fun if the characters are wildly unbalanced! Are any characters \"overpowered\", which we'll define as having a \"Total\" more than three standard deviations from the population mean?"
   ]
  },
  {
   "cell_type": "code",
   "execution_count": 19,
   "metadata": {},
   "outputs": [
    {
     "name": "stdout",
     "output_type": "stream",
     "text": [
      "MewtwoMega Mewtwo X is overpowered!\n"
     ]
    }
   ],
   "source": [
    "#calculate Total attribute that is considered overpowered\n",
    "\n",
    "op = pop_mean + 3*pop_stdev\n",
    "\n",
    "#go through pokedex and find if any characters have Total attribute higher than this\n",
    "\n",
    "overpowered_list = [] #initialise list of overpowered pokemon\n",
    "\n",
    "#for each pokemon in the pokedex\n",
    "for i,pokemon in enumerate(new_pokedex):\n",
    "    if(new_pokedex[i+1]['Total'])>op: #if Total attribute is more than 3 standard deviations from pop mean\n",
    "        overpowered_list.append(new_pokedex[i+1]['Name'])\n",
    "\n",
    "#for each element on the list, print out the pokemon name      \n",
    "for pokemon in overpowered_list:\n",
    "    print(\"{pokemon} is overpowered!\".format(pokemon=pokemon))\n",
    "    \n",
    "    "
   ]
  },
  {
   "cell_type": "markdown",
   "metadata": {},
   "source": [
    "<img src=\"http://imgur.com/xDpSobf.png\" style=\"float: left; margin: 25px 15px 0px 0px; height: 25px\">\n",
    "\n",
    "## 10. Calibrate the frequency of Pokemon\n",
    "\n",
    "The design team wants you to make the powerful Pokemon rare, and the weaklings more common. How would you set the probability $p_i$ of finding Pokemon *i* each time a player visits a gym?\n",
    "\n",
    "Write a function that takes in a Pokedex number and returns a value $p_i$ for that character.\n",
    "\n",
    "Hint: there are many ways you could do this. What do _you_ think makes sense? Start with simplifying assumptions: for example, you could assume that the probabilities of encountering any two Pokemon on one visit to a gym are independent of each other."
   ]
  },
  {
   "cell_type": "code",
   "execution_count": 20,
   "metadata": {},
   "outputs": [
    {
     "name": "stdout",
     "output_type": "stream",
     "text": [
      "314.0\n"
     ]
    },
    {
     "data": {
      "text/plain": [
       "0.8436841709064191"
      ]
     },
     "execution_count": 20,
     "metadata": {},
     "output_type": "execute_result"
    }
   ],
   "source": [
    "import scipy.stats as st\n",
    "\n",
    "#this function takes in a Pokedex number and returns probability of finding that Pokemon each time a player visits a gym\n",
    "def poke_freq(pokedex_num):\n",
    "    \n",
    "    #check the 'Total' attribute of this pokemon\n",
    "    poke_power = new_pokedex[pokedex_num]['Total']\n",
    "    print(poke_power)\n",
    "    \n",
    "    #create a normal distribution with the pop mean and pop standard deviation found earlier\n",
    "    #the higher the 'total' attribute, the lower the probability of encountering this Pokemon\n",
    "    #use 'total attribute' as z value to derive a probability from the normal distribution  \n",
    "\n",
    "    probability = 1 - st.norm(pop_mean,pop_stdev).cdf(poke_power) #probability should be higher for weaker pokemon\n",
    "  \n",
    "    return probability #return probability of encountering this pokemon\n",
    "\n",
    "poke_freq(10)"
   ]
  },
  {
   "cell_type": "code",
   "execution_count": null,
   "metadata": {},
   "outputs": [],
   "source": []
  }
 ],
 "metadata": {
  "anaconda-cloud": {},
  "kernelspec": {
   "display_name": "Python 3",
   "language": "python",
   "name": "python3"
  },
  "language_info": {
   "codemirror_mode": {
    "name": "ipython",
    "version": 3
   },
   "file_extension": ".py",
   "mimetype": "text/x-python",
   "name": "python",
   "nbconvert_exporter": "python",
   "pygments_lexer": "ipython3",
   "version": "3.6.7"
  }
 },
 "nbformat": 4,
 "nbformat_minor": 1
}
